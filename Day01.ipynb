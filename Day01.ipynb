{
 "cells": [
  {
   "cell_type": "markdown",
   "id": "c3e36e56-2ee2-4276-9c68-380e5754c5d4",
   "metadata": {},
   "source": [
    "### Date : 28 Jul 2022"
   ]
  },
  {
   "cell_type": "code",
   "execution_count": 1,
   "id": "ff7267cb-335b-4ad0-8a85-bb0a77077322",
   "metadata": {},
   "outputs": [
    {
     "output_type": "stream",
     "name": "stdout",
     "text": [
      "Help on class map in module builtins:\n\nclass map(object)\n |  map(func, *iterables) --> map object\n |  \n |  Make an iterator that computes the function using arguments from\n |  each of the iterables.  Stops when the shortest iterable is exhausted.\n |  \n |  Methods defined here:\n |  \n |  __getattribute__(self, name, /)\n |      Return getattr(self, name).\n |  \n |  __iter__(self, /)\n |      Implement iter(self).\n |  \n |  __next__(self, /)\n |      Implement next(self).\n |  \n |  __reduce__(...)\n |      Return state information for pickling.\n |  \n |  ----------------------------------------------------------------------\n |  Static methods defined here:\n |  \n |  __new__(*args, **kwargs) from builtins.type\n |      Create and return a new object.  See help(type) for accurate signature.\n\n"
     ]
    }
   ],
   "source": [
    "help(map)"
   ]
  },
  {
   "cell_type": "code",
   "execution_count": 2,
   "id": "701f9851-5f38-40e0-b264-95f91c222b38",
   "metadata": {},
   "outputs": [
    {
     "output_type": "stream",
     "name": "stdout",
     "text": [
      " Returns the sqrt of a number \n"
     ]
    }
   ],
   "source": [
    "def sqrt_num(n):\n",
    "    \"\"\" Returns the sqrt of a number \"\"\"\n",
    "    return n**0.5\n",
    "\n",
    "print(sqrt_num.__doc__)"
   ]
  },
  {
   "cell_type": "markdown",
   "id": "5693d5ae-b283-4e54-905f-21cf53648375",
   "metadata": {},
   "source": [
    "### How does a map work?\n",
    "\n",
    "\n",
    "`map` is a function that accepts 2 parameters - 1 function and an iterable.\n",
    "map applies the function to every element of the iterable and returns an iterable again.\n",
    "\n",
    "Here the function sqrt_num gets applied to every number from 2 to 20.\n"
   ]
  },
  {
   "cell_type": "code",
   "execution_count": 1,
   "id": "47814bf6-5d3f-4cf6-b05b-06f771b130b3",
   "metadata": {},
   "outputs": [
    {
     "output_type": "stream",
     "name": "stdout",
     "text": [
      "sqrt(11) = 3.3166247903554\nsqrt(12) = 3.4641016151377544\nsqrt(13) = 3.605551275463989\nsqrt(14) = 3.7416573867739413\nsqrt(15) = 3.872983346207417\nsqrt(16) = 4.0\nsqrt(17) = 4.123105625617661\nsqrt(18) = 4.242640687119285\nsqrt(19) = 4.358898943540674\n"
     ]
    }
   ],
   "source": [
    "# Version 0\n",
    "\n",
    "\"\"\"\n",
    "class map(object)\n",
    " |  map(func, *iterables) --> map object\n",
    " |  \n",
    " |  Returns: iterator.  Stops when the shortest iterable is exhausted.\n",
    "\"\"\"\n",
    "\n",
    "def sqrt_num(n):\n",
    "    \"\"\" Returns the sqrt of a number \"\"\"\n",
    "    return n, n**0.5\n",
    "    \n",
    "map_obj = map(sqrt_num, range(11,20))\n",
    "\n",
    "for k,v in map_obj:\n",
    "    print(f\"sqrt({k}) = {v}\")"
   ]
  },
  {
   "cell_type": "code",
   "execution_count": 2,
   "id": "9ba92934-467d-4d45-ba05-90373b1c0dc1",
   "metadata": {},
   "outputs": [
    {
     "output_type": "stream",
     "name": "stdout",
     "text": [
      "Time taken for list comprehension = 0:00:00.066264\nNumber of items in list = 199999\nTime taken for map obj = 0:00:00.077574\nNumber of items in map_obj after first iteration = 199999\nNumber of items in map_obj after second iteration = 0\n"
     ]
    }
   ],
   "source": [
    "# Version 1\n",
    "\n",
    "from datetime import datetime\n",
    "\n",
    "end = 200000\n",
    "\n",
    "start_time_li = datetime.now()\n",
    "li_obj = [i**0.5 for i in range(1, end)]\n",
    "print(f\"Time taken for list comprehension = {datetime.now()-start_time_li}\")\n",
    "print(f\"Number of items in list = {len(li_obj)}\")\n",
    "\n",
    "\n",
    "start_time_map = datetime.now()\n",
    "map_obj = map(sqrt_num, range(1, end))\n",
    "\n",
    "counter = 0\n",
    "for k,v in map_obj:\n",
    "    counter +=1\n",
    "    \n",
    "print(f\"Time taken for map obj = {datetime.now()-start_time_map}\")\n",
    "print(f\"Number of items in map_obj after first iteration = {counter}\")\n",
    "\n",
    "counter2 = 0\n",
    "for k,v in map_obj:\n",
    "    counter2 +=1\n",
    "\n",
    "print(f\"Number of items in map_obj after second iteration = {counter2}\")"
   ]
  },
  {
   "cell_type": "code",
   "execution_count": 3,
   "id": "ed14134d-ccf1-4930-85e7-8e119fac38a6",
   "metadata": {},
   "outputs": [
    {
     "output_type": "stream",
     "name": "stdout",
     "text": [
      "Number of items in list = 1999999\n",
      "func:using_list_comprehensions args:[(2000000,), {}] took: 0.4582 sec\n",
      "\n",
      "Number of items in map_obj after first iteration = 1999999\n",
      "Number of items in map_obj after second iteration = 0\n",
      "func:using_maps args:[(2000000,), {}] took: 1.1496 sec\n",
      "\n"
     ]
    }
   ],
   "source": [
    "# Version 3\n",
    "\n",
    "from datetime import datetime\n",
    "from utils import sqrt_num, timing\n",
    "\n",
    "@timing\n",
    "def using_list_comprehensions(n):\n",
    "    start_time_li = datetime.now()\n",
    "    li_obj = [i**0.5 for i in range(1, end)]\n",
    "    print(f\"Number of items in list = {len(li_obj)}\")\n",
    "\n",
    "@timing\n",
    "def using_maps(n):\n",
    "    map_obj = map(sqrt_num, range(1, end))\n",
    "    counter = len([i for i in map_obj])\n",
    "    print(f\"Number of items in map_obj after first iteration = {counter}\")\n",
    "    counter2 = len([i for i in map_obj])\n",
    "    print(f\"Number of items in map_obj after second iteration = {counter2}\")\n",
    "   \n",
    "end = 2000000\n",
    "using_list_comprehensions(end)\n",
    "using_maps(end)"
   ]
  },
  {
   "cell_type": "code",
   "execution_count": null,
   "metadata": {},
   "outputs": [],
   "source": []
  }
 ],
 "metadata": {
  "kernelspec": {
   "display_name": "Python 3",
   "language": "python",
   "name": "python3"
  },
  "language_info": {
   "codemirror_mode": {
    "name": "ipython",
    "version": 3
   },
   "file_extension": ".py",
   "mimetype": "text/x-python",
   "name": "python",
   "nbconvert_exporter": "python",
   "pygments_lexer": "ipython3",
   "version": "3.10.0-final"
  }
 },
 "nbformat": 4,
 "nbformat_minor": 5
}