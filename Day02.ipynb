{
 "cells": [
  {
   "cell_type": "markdown",
   "id": "37aa271c-0abe-41bf-af1e-f5b10616128a",
   "metadata": {},
   "source": [
    "### Date : 31 Jul 2022"
   ]
  },
  {
   "cell_type": "code",
   "execution_count": 2,
   "id": "92ded8b7-cc1f-4eeb-90c7-0c9d35e125ec",
   "metadata": {
    "execution": {
     "iopub.execute_input": "2022-07-30T20:32:05.900235Z",
     "iopub.status.busy": "2022-07-30T20:32:05.900053Z",
     "iopub.status.idle": "2022-07-30T20:32:10.414138Z",
     "shell.execute_reply": "2022-07-30T20:32:10.413526Z",
     "shell.execute_reply.started": "2022-07-30T20:32:05.900218Z"
    },
    "tags": []
   },
   "outputs": [
    {
     "name": "stdout",
     "output_type": "stream",
     "text": [
      "Filename : filename.msgpack. Filesize: 95.37 MB\n",
      "func:test_msgpack_timing took: 0.3037 sec\n",
      "\n",
      "Filename : datafile.dat. Filesize: 95.37 MB\n",
      "func:test_marshal_timing took: 0.2282 sec\n",
      "\n",
      "Filename : filename.pickle. Filesize: 95.37 MB\n",
      "func:test_pickle_timing took: 0.2462 sec\n",
      "\n",
      "Filename : filename.json. Filesize: 95.37 MB\n",
      "func:test_json_timing took: 0.5408 sec\n",
      "\n"
     ]
    }
   ],
   "source": [
    "import json\n",
    "import pickle\n",
    "import marshal\n",
    "import msgpack\n",
    "\n",
    "from utils import timing, get_file_size\n",
    "import pandas as pd\n",
    "\n",
    "@timing\n",
    "def test_marshal_timing(filename, data):\n",
    "    with open(f\"outputs/{filename}\", 'wb') as f:\n",
    "        marshal.dump(data, f)\n",
    "        print(f'Filename : {filename}. Filesize: {get_file_size(f\"outputs/{filename}\")} MB')\n",
    "\n",
    "\n",
    "@timing\n",
    "def test_json_timing(filename, data):\n",
    "    with open(f\"outputs/{filename}\", \"w\") as f:\n",
    "        json.dump(data, f)\n",
    "        print(f'Filename : {filename}. Filesize: {get_file_size(f\"outputs/{filename}\")} MB')\n",
    "    \n",
    "@timing\n",
    "def test_pickle_timing(filename, data):\n",
    "    with open(f\"outputs/{filename}\", 'wb') as f:\n",
    "        pickle.dump(data, f, protocol=pickle.HIGHEST_PROTOCOL)\n",
    "        print(f'Filename : {filename}. Filesize: {get_file_size(f\"outputs/{filename}\")} MB')\n",
    "        \n",
    "@timing\n",
    "def test_msgpack_timing(filename, data):\n",
    "    with open(f\"outputs/{filename}\", \"wb\") as f:\n",
    "        packed = msgpack.packb(data)\n",
    "        f.write(packed)\n",
    "        print(f'Filename : {filename}. Filesize: {get_file_size(f\"outputs/{filename}\")} MB')\n",
    "\n",
    "end_limit = 100000000\n",
    "full_string = \"a\"*end_limit\n",
    "full_list = list(range(end_limit))\n",
    "test_msgpack_timing(\"filename.msgpack\", full_string)\n",
    "test_marshal_timing('datafile.dat', full_string)        \n",
    "test_pickle_timing('filename.pickle', full_string)\n",
    "test_json_timing(\"filename.json\", full_string)\n"
   ]
  },
  {
   "cell_type": "code",
   "execution_count": 1,
   "id": "cec9b78b-79ff-4572-9b5e-392979f14774",
   "metadata": {
    "execution": {
     "iopub.execute_input": "2022-07-30T20:09:16.824726Z",
     "iopub.status.busy": "2022-07-30T20:09:16.824445Z",
     "iopub.status.idle": "2022-07-30T20:09:16.838301Z",
     "shell.execute_reply": "2022-07-30T20:09:16.837676Z",
     "shell.execute_reply.started": "2022-07-30T20:09:16.824671Z"
    },
    "tags": []
   },
   "outputs": [],
   "source": []
  },
  {
   "cell_type": "code",
   "execution_count": null,
   "id": "ef81bd1f-61af-4c64-85cd-c0a3d38d52de",
   "metadata": {},
   "outputs": [],
   "source": []
  }
 ],
 "metadata": {
  "kernelspec": {
   "display_name": "Python 3 (ipykernel)",
   "language": "python",
   "name": "python3"
  },
  "language_info": {
   "codemirror_mode": {
    "name": "ipython",
    "version": 3
   },
   "file_extension": ".py",
   "mimetype": "text/x-python",
   "name": "python",
   "nbconvert_exporter": "python",
   "pygments_lexer": "ipython3",
   "version": "3.10.0"
  }
 },
 "nbformat": 4,
 "nbformat_minor": 5
}
