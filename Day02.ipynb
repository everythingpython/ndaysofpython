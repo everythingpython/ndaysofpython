{
 "cells": [
  {
   "cell_type": "markdown",
   "id": "37aa271c-0abe-41bf-af1e-f5b10616128a",
   "metadata": {},
   "source": [
    "### Date : 31 Jul 2022"
   ]
  },
  {
   "cell_type": "code",
   "execution_count": 5,
   "id": "92ded8b7-cc1f-4eeb-90c7-0c9d35e125ec",
   "metadata": {
    "execution": {
     "iopub.execute_input": "2022-07-30T20:16:58.343617Z",
     "iopub.status.busy": "2022-07-30T20:16:58.343434Z",
     "iopub.status.idle": "2022-07-30T20:17:03.524698Z",
     "shell.execute_reply": "2022-07-30T20:17:03.524196Z",
     "shell.execute_reply.started": "2022-07-30T20:16:58.343599Z"
    },
    "tags": []
   },
   "outputs": [
    {
     "name": "stdout",
     "output_type": "stream",
     "text": [
      "Filename : filename.msgpack. Filesize: 9.54 MB\n",
      "func:test_msgpack_timing took: 0.0130 sec\n",
      "\n",
      "Filename : datafile.dat. Filesize: 9.54 MB\n",
      "func:test_marshal_timing took: 0.0080 sec\n",
      "\n",
      "Filename : filename.pickle. Filesize: 9.54 MB\n",
      "func:test_pickle_timing took: 0.0080 sec\n",
      "\n",
      "Filename : filename.json. Filesize: 9.54 MB\n",
      "func:test_json_timing took: 0.1017 sec\n",
      "\n"
     ]
    }
   ],
   "source": [
    "import os\n",
    "\n",
    "import json\n",
    "import pickle\n",
    "import marshal\n",
    "import msgpack\n",
    "\n",
    "from utils import timing, get_file_size\n",
    "\n",
    "@timing\n",
    "def test_marshal_timing(filename, data):\n",
    "    with open(f\"outputs/{filename}\", 'wb') as f:\n",
    "        marshal.dump(data, f)\n",
    "        print(f'Filename : {filename}. Filesize: {get_file_size(f\"outputs/{filename}\")} MB')\n",
    "\n",
    "\n",
    "@timing\n",
    "def test_json_timing(filename, data):\n",
    "    with open(f\"outputs/{filename}\", \"w\") as f:\n",
    "        json.dump(data, f)\n",
    "        print(f'Filename : {filename}. Filesize: {get_file_size(f\"outputs/{filename}\")} MB')\n",
    "    \n",
    "@timing\n",
    "def test_pickle_timing(filename, data):\n",
    "    with open(f\"outputs/{filename}\", 'wb') as f:\n",
    "        pickle.dump(data, f, protocol=pickle.HIGHEST_PROTOCOL)\n",
    "        print(f'Filename : {filename}. Filesize: {get_file_size(f\"outputs/{filename}\")} MB')\n",
    "        \n",
    "@timing\n",
    "def test_msgpack_timing(filename, data):\n",
    "    with open(f\"outputs/{filename}\", \"wb\") as f:\n",
    "        packed = msgpack.packb(data)\n",
    "        f.write(packed)\n",
    "        print(f'Filename : {filename}. Filesize: {get_file_size(f\"outputs/{filename}\")} MB')\n",
    "\n",
    "end_limit = 10000000\n",
    "full_string = \"a\"*end_limit\n",
    "full_list = list(range(end_limit))\n",
    "test_msgpack_timing(\"filename.msgpack\", full_string)\n",
    "test_marshal_timing('datafile.dat', full_string)        \n",
    "test_pickle_timing('filename.pickle', full_string)\n",
    "test_json_timing(\"filename.json\", full_string)\n"
   ]
  }
 ],
 "metadata": {
  "kernelspec": {
   "display_name": "Python 3.9.2 ('jupy')",
   "language": "python",
   "name": "python3"
  },
  "language_info": {
   "codemirror_mode": {
    "name": "ipython",
    "version": 3
   },
   "file_extension": ".py",
   "mimetype": "text/x-python",
   "name": "python",
   "nbconvert_exporter": "python",
   "pygments_lexer": "ipython3",
   "version": "3.9.2"
  },
  "vscode": {
   "interpreter": {
    "hash": "4c5699541d48eae5fccd240fd7045bdd8939c9066fc6386d3155623bee6b4c1a"
   }
  }
 },
 "nbformat": 4,
 "nbformat_minor": 5
}
